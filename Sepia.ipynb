{
 "cells": [
  {
   "cell_type": "code",
   "execution_count": 1,
   "metadata": {
    "collapsed": true
   },
   "outputs": [],
   "source": [
    "url = \"https://plato.stanford.edu/contents.html\""
   ]
  },
  {
   "cell_type": "code",
   "execution_count": null,
   "metadata": {},
   "outputs": [],
   "source": [
    "from bs4 import BeautifulSoup as soup\n",
    "from urllib.request import urlopen\n",
    "import requests\n",
    "    \n",
    "#open index page, store contents and close\n",
    "uClient = urlopen(url)\n",
    "page = uClient.read()\n",
    "uClient.close()\n",
    "\n",
    "#parse index page html\n",
    "page_soup = soup(page, \"html.parser\")\n",
    "    \n",
    "#collect all text content in index page body\n",
    "body = page_soup.body\n",
    "\n",
    "#retrieve all entries, stored as keys in a dictionary\n",
    "entries={}\n",
    "for _ in body.find_all(\"a\"):\n",
    "    if str(_.get(\"href\"))[:7]==\"entries\":\n",
    "        entries[_.get(\"href\")[8:-1]]=None\n",
    "\n",
    "#iterate through each entry's page to retrieve content\n",
    "for _ in entries[:2]:\n",
    "    \n",
    "    try:\n",
    "    \n",
    "        #adjust url for entry\n",
    "        entry_url = url[:-13]+\"entries/\"+_+\"/\"\n",
    "\n",
    "        #open, store, close entry page\n",
    "        uClient = urlopen(entry_url)\n",
    "        entry_page=uClient.read()\n",
    "        uClient.close()\n",
    "\n",
    "        #parse entry html\n",
    "        entry_soup = soup(entry_page,\"html.parser\")\n",
    "        entry_body = entry_soup.body\n",
    "\n",
    "        #store content, add it as item to entry dict\n",
    "        content=[]\n",
    "        for text in body.find_all(\"p\"):\n",
    "            content.append(text)\n",
    "            \n",
    "        entries[_]=content\n",
    "        \n",
    "    except:\n",
    "        pass\n",
    "\n",
    "print (entries)"
   ]
  },
  {
   "cell_type": "code",
   "execution_count": null,
   "metadata": {
    "collapsed": true
   },
   "outputs": [],
   "source": []
  }
 ],
 "metadata": {
  "kernelspec": {
   "display_name": "Python 3",
   "language": "python",
   "name": "python3"
  },
  "language_info": {
   "codemirror_mode": {
    "name": "ipython",
    "version": 3
   },
   "file_extension": ".py",
   "mimetype": "text/x-python",
   "name": "python",
   "nbconvert_exporter": "python",
   "pygments_lexer": "ipython3",
   "version": "3.6.3"
  }
 },
 "nbformat": 4,
 "nbformat_minor": 2
}
